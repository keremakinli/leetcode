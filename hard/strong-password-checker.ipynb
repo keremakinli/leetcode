{
 "cells": [
  {
   "cell_type": "markdown",
   "metadata": {},
   "source": [
    "## Question: Strong Password Checker\n",
    "\n",
    "A password is considered strong if below conditions are all met:\n",
    "\n",
    "* It has at least 6 characters and at most 20 characters.\n",
    "\n",
    "* It must contain at least one lowercase letter, at least one uppercase letter, and at least one digit.\n",
    "\n",
    "* It must NOT contain three repeating characters in a row (\"...aaa...\" is weak, but \"...aa...a...\" is strong, assuming other conditions are met).\n",
    "\n",
    "Write a function strongPasswordChecker(s), that takes a string s as input, and return the MINIMUM change required to make s a strong password. If s is already strong, return 0.\n",
    "\n",
    "Insertion, deletion or replace of any one character are all considered as one change."
   ]
  },
  {
   "cell_type": "markdown",
   "metadata": {},
   "source": [
    "## Solution\n",
    "#### The solution for len(s)<=20 is fairly easy.\n",
    "Add (in case of len<6) missing-type chars to third index of repeating character substrings or change third chars of repeating character substrings to missing-type chars,as long as both exist. Otherwise, just add chars to wherever necessary.\n",
    "```\n",
    "max(missing, change)\n",
    "```\n",
    "If len(s) is still <6, add more chars.\n",
    "\n",
    "#### Characters deletion may save operation when len(s)>20.\n",
    "For example:<br>\n",
    "'1AbabababababbAAAAAA' has 21 characters and 'AAAAAA' in it. <br><br>If we delete a character from 'AAAAAA' one char must be changed instead of two. <br>When length of repeating character substrings drop from 3n to 3n-1, we save one change operation. (Call it *1for1*)\n",
    "<br>From 3n+1 3n-1, we save one change operation for two deletes. (*1for2*)\n",
    "<br>From 3n+2 3n-1, we save one change operation for three deletes. (*1for3*)\n",
    "\n"
   ]
  },
  {
   "cell_type": "code",
   "execution_count": 12,
   "metadata": {},
   "outputs": [
    {
     "data": {
      "text/plain": [
       "1"
      ]
     },
     "execution_count": 12,
     "metadata": {},
     "output_type": "execute_result"
    }
   ],
   "source": [
    "s = '222222222222222222f22'\n",
    "[[0], [len(s) - 20, len(s) - 6]][len(s) not in range(6,21)][len(s) < 6]"
   ]
  },
  {
   "cell_type": "code",
   "execution_count": null,
   "metadata": {},
   "outputs": [],
   "source": [
    "class Solution:\n",
    "    def strongPasswordChecker(self, s: str) -> int:\n",
    "        \n",
    "        #number of missing-type characters\n",
    "        missing = not any([i in 'abcdefghijklmnopqrstuvwxyz' for i in s])\n",
    "        missing += not any([i in 'ABCDEFGHIJKLMNOPQRSTUVWXYZ' for i in s])\n",
    "        missing += not any([i in '0123456789' for i in s])\n",
    "        \n",
    "        #char count outside the threshold\n",
    "        extra = [[0], [len(s) - 20, len(s) - 6]][len(s) not in range(6,21)][len(s) < 6]\n",
    "        \n",
    "        #repeating character substrings\n",
    "        rcs = [0, 0, 0] #1for1, 1for2, 1for3\n",
    "        count = 1\n",
    "        for i in range(1, len(s)):\n",
    "            if s[i] == s[i-1]:\n",
    "                count = count + 1\n",
    "            else:\n",
    "                if count > 2:\n",
    "                    rcs[count%3] += 1\n",
    "                    rcs[2] += count // 3 - 1 #e.g. there is 1 '1for1', 2 '1for3's in a 9 char-long rubstring \n",
    "                count = 1\n",
    "        #register rcs at the end\n",
    "        if count > 2:\n",
    "            rcs[count%3] += 1\n",
    "            rcs[2] += count // 3 - 1 #e.g. there is 1 '1for1', 2 '1for3's in a 9 char-long rubstring\n",
    "        print(i, count, rcs)     \n",
    "            \n",
    "            \n",
    "            \n",
    "        if extra <= 0: #len(s) <= 20\n",
    "            if max(missing, sum(rcs)) + extra < 0:\n",
    "                return -extra\n",
    "            return max(missing, sum(rcs))\n",
    "        \n",
    "        #len(s) > 20\n",
    "        _1for1 = min(rcs[0], extra)\n",
    "        rcs[0], extra = rcs[0] - _1for1, extra - _1for1\n",
    "        _1for2 = min(rcs[1] * 2, extra) // 2\n",
    "        rcs[1], extra = rcs[1] - _1for2, extra - _1for2 * 2\n",
    "        _1for3 = min(rcs[2] * 3, extra)\n",
    "        rcs[2], extra = rcs[2] - _1for3, extra - _1for3 * 3\n",
    "        cost = _1for1 + _1for2 * 2 + _1for3 * 3\n",
    "        \n",
    "        print(extra, cost, rcs, missing)        \n",
    "        return extra + cost + max(missing, sum(rcs))"
   ]
  }
 ],
 "metadata": {
  "kernelspec": {
   "display_name": "Python 3",
   "language": "python",
   "name": "python3"
  },
  "language_info": {
   "codemirror_mode": {
    "name": "ipython",
    "version": 3
   },
   "file_extension": ".py",
   "mimetype": "text/x-python",
   "name": "python",
   "nbconvert_exporter": "python",
   "pygments_lexer": "ipython3",
   "version": "3.7.4"
  }
 },
 "nbformat": 4,
 "nbformat_minor": 2
}
