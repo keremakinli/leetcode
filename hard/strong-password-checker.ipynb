{
 "cells": [
  {
   "cell_type": "markdown",
   "metadata": {},
   "source": [
    "## Question: Strong Password Checker\n",
    "\n",
    "A password is considered strong if below conditions are all met:\n",
    "\n",
    "* It has at least 6 characters and at most 20 characters.\n",
    "\n",
    "* It must contain at least one lowercase letter, at least one uppercase letter, and at least one digit.\n",
    "\n",
    "* It must NOT contain three repeating characters in a row (\"...aaa...\" is weak, but \"...aa...a...\" is strong, assuming other conditions are met).\n",
    "\n",
    "Write a function strongPasswordChecker(s), that takes a string s as input, and return the MINIMUM change required to make s a strong password. If s is already strong, return 0.\n",
    "\n",
    "Insertion, deletion or replace of any one character are all considered as one change."
   ]
  },
  {
   "cell_type": "markdown",
   "metadata": {},
   "source": [
    "## Solution\n",
    "#### Ideal solutions for seperate conditions:\n",
    "1. **If len(s) is not in range [6, 20]:**<br>\n",
    "Characters must be added or deleted until condition is achieved.\n",
    "2. **If a type of char is missing e.g. digit:**<br>\n",
    "An abundant type character must be changed to missing type char, or <br>\n",
    "a missing type character must be added.\n",
    "3. **If there are repeating character substrings (RCS) e.g. 'aaa...a':**<br>\n",
    "We must change every third repeating character. So,\n",
    "```\n",
    "len('aaa...a') // 3\n",
    "```\n",
    "times change will be needed for each such substring.\n",
    "\n",
    "#### The solution for len(s)<=20 is fairly easy.\n",
    "Add missing-type chars to third index of repeating character substrings or change third chars of repeating character substrings to missing-type chars,as long as both exist. Otherwise, just add chars to wherever necessary.\n",
    "```\n",
    "max(chartoadd, change)\n",
    "```\n",
    "If len(s) is still <6, add more chars.\n",
    "\n",
    "Change third chars of repeating character substrings to missing-type chars, as long as both exist. Otherwise, just change any char. \n",
    "\n",
    "#### We need to delete characters smartly when len(s)>20.\n",
    "When there are repeating character substrings.<br>We start deleting from repeating character substrings so that <br>we might need to change less characters in them or <br>we might get rid of them entirely. \n",
    "\n",
    "\n",
    "For example:<br>\n",
    "'1AbabababababbAAAAAA' has 21 characters and 'AAAAAA' in it. <br><br>If we delete a character from 'AAAAAA' one char must be changed instead of two. <br>When length of repeating character substrings drop from 3n to 3n-1, we save one change operation. (*1for1*)\n",
    "<br>From 3n+1 3n-1, we save one change operation for two deletes. (*1for2*)\n",
    "<br>From 3n+2 3n-1, we save one change operation for three deletes. (*1for3*)\n",
    "\n"
   ]
  },
  {
   "cell_type": "code",
   "execution_count": 12,
   "metadata": {},
   "outputs": [
    {
     "data": {
      "text/plain": [
       "1"
      ]
     },
     "execution_count": 12,
     "metadata": {},
     "output_type": "execute_result"
    }
   ],
   "source": [
    "s = '222222222222222222f22'\n",
    "[[0], [len(s) - 20, len(s) - 6]][len(s) not in range(6,21)][len(s) < 6]"
   ]
  },
  {
   "cell_type": "code",
   "execution_count": null,
   "metadata": {},
   "outputs": [],
   "source": [
    "class Solution:\n",
    "    def strongPasswordChecker(self, s: str) -> int:\n",
    "        \n",
    "        #number of missing-type characters\n",
    "        chartoadd = not any([i in 'abcdefghijklmnopqrstuvwxyz' for i in s])\n",
    "        chartoadd += not any([i in 'ABCDEFGHIJKLMNOPQRSTUVWXYZ' for i in s])\n",
    "        chartoadd += not any([i in '0123456789' for i in s])\n",
    "        \n",
    "        #char count outside the threshold\n",
    "        extra = [[0], [len(s) - 20, len(s) - 6]][len(s) not in range(6,21)][len(s) < 6]\n",
    "            \n",
    "        rcs = [0, 0, 0] #3n, 3n+1, 3n+2\n",
    "        for i in range(1, len(s)):\n",
    "            if s[i] == s[i-1]:\n",
    "                count = count + 1 if count else 2\n",
    "            elif count > 2:\n",
    "                rcs[count%3] += 1\n",
    "                rcs[2] += count // 3 - 1 #e.g. there is 1 '1for1', 2 '1for3's in 9 char-long\n",
    "                count = 1\n",
    "        \n",
    "        if extra <= 0: #len(s) < 20\n",
    "            if max(chartoadd, sum(rcs)) + extra < 0:\n",
    "                return -extra\n",
    "            return max(chartoadd, change)\n",
    "        \n",
    "        else:\n",
    "            delete = len_init - 20\n",
    "            #see if deletes negate a change\n",
    "            \n",
    "            \n",
    "            while delete and any([i for i in rep if i>2]):\n",
    "                if any([i for i in rep if i%3==0 and i>2]):\n",
    "                    for loc, i in enumerate(rep):\n",
    "                        if i%3==0 and i>2:\n",
    "                            rep[loc] -= 1\n",
    "                            delete -= 1\n",
    "                            merge += 1\n",
    "                            break\n",
    "                \n",
    "                elif any([i for i in rep if i%3==1 and i>2]):\n",
    "                    for loc, i in enumerate(rep):\n",
    "                        if i%3==1 and i>2:\n",
    "                            rep[loc] -= 1\n",
    "                            delete -= 1\n",
    "                            merge += 1\n",
    "                            break\n",
    "                \n",
    "                elif any([i for i in rep if i%3==2 and i>2]):\n",
    "                    for loc, i in enumerate(rep):\n",
    "                        if i%3==2 and i>2:\n",
    "                            rep[loc] -= 1\n",
    "                            delete -= 1\n",
    "                            merge += 1\n",
    "                            break\n",
    "                else:\n",
    "                    change = sum([i//3 for i in rep])\n",
    "                    if change and delete:\n",
    "                        return -1\n",
    "                    break\n",
    "            \n",
    "            change = sum([i//3 for i in rep])\n",
    "            if chartoadd > change:\n",
    "                chartoadd -= change\n",
    "                merge += change\n",
    "                change = 0\n",
    "                \n",
    "            else:\n",
    "                chartoadd = 0\n",
    "            return delete + change + chartoadd + merge\n",
    "                            \n",
    "        return max(change, chartoadd)"
   ]
  }
 ],
 "metadata": {
  "kernelspec": {
   "display_name": "Python 3",
   "language": "python",
   "name": "python3"
  },
  "language_info": {
   "codemirror_mode": {
    "name": "ipython",
    "version": 3
   },
   "file_extension": ".py",
   "mimetype": "text/x-python",
   "name": "python",
   "nbconvert_exporter": "python",
   "pygments_lexer": "ipython3",
   "version": "3.7.4"
  }
 },
 "nbformat": 4,
 "nbformat_minor": 2
}
