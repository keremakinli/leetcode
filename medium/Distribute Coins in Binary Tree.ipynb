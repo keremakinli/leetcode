{
 "cells": [
  {
   "cell_type": "markdown",
   "metadata": {},
   "source": [
    "## Question: [Distribute Coins in Binary Tree](https://leetcode.com/problems/distribute-coins-in-binary-tree/)\n",
    "\n",
    "Given the root of a binary tree with N nodes, each node in the tree has node.val coins, and there are N coins total.\n",
    "\n",
    "In one move, we may choose two adjacent nodes and move one coin from one node to another.  (The move may be from parent to child, or from child to parent.)\n",
    "\n",
    "Return the number of moves required to make every node have exactly one coin."
   ]
  },
  {
   "cell_type": "markdown",
   "metadata": {},
   "source": [
    "## Solution: DFS\n",
    "Each node sends up extra/missing amount of coins of the tree that it is root of. In case that tree is missing coins it \"sends up\" negative amount. \n",
    "```\n",
    "sendup(node) = root.val + dfs(root.left) + dfs(root.right) - 1\n",
    "```\n",
    "Since both upward and downward moves are counted positively, absolute value of extra/missing coins are recorded. "
   ]
  },
  {
   "cell_type": "markdown",
   "metadata": {},
   "source": [
    "#### Definition for a binary tree node:\n",
    "```\n",
    "class TreeNode:\n",
    "    def __init__(self, x):\n",
    "        self.val = x\n",
    "        self.left = None\n",
    "        self.right = None\n",
    "```"
   ]
  },
  {
   "cell_type": "code",
   "execution_count": null,
   "metadata": {},
   "outputs": [],
   "source": [
    "class Solution:\n",
    "    def distributeCoins(self, root: TreeNode) -> int:\n",
    "        sendup = []\n",
    "        def dfs(root):\n",
    "            if root is None:\n",
    "                return 0\n",
    "            x = root.val + dfs(root.left) + dfs(root.right) - 1\n",
    "            sendup.append(abs(x))\n",
    "            return x\n",
    "        \n",
    "        dfs(root)\n",
    "        return sum(sendup)"
   ]
  },
  {
   "cell_type": "markdown",
   "metadata": {},
   "source": [
    "#### Time Complexity: $O(N)$\n",
    "#### Space Complexity: $O(N)$\n"
   ]
  }
 ],
 "metadata": {
  "kernelspec": {
   "display_name": "Python 3",
   "language": "python",
   "name": "python3"
  },
  "language_info": {
   "codemirror_mode": {
    "name": "ipython",
    "version": 3
   },
   "file_extension": ".py",
   "mimetype": "text/x-python",
   "name": "python",
   "nbconvert_exporter": "python",
   "pygments_lexer": "ipython3",
   "version": "3.7.4"
  }
 },
 "nbformat": 4,
 "nbformat_minor": 2
}
